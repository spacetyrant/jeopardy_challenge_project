{
 "cells": [
  {
   "cell_type": "code",
   "execution_count": 1,
   "metadata": {},
   "outputs": [],
   "source": [
    "import pandas as pd\n",
    "pd.set_option('display.max_colwidth', None)"
   ]
  },
  {
   "cell_type": "code",
   "execution_count": 2,
   "metadata": {},
   "outputs": [],
   "source": [
    "df = pd.read_csv('jeopardy.csv')"
   ]
  },
  {
   "cell_type": "code",
   "execution_count": 3,
   "metadata": {},
   "outputs": [],
   "source": [
    "# Strip off whitespace in front of column names\n",
    "columns = df.columns\n",
    "for column in columns:\n",
    "    df.rename(columns={column: str.strip(column)}, inplace=True)"
   ]
  },
  {
   "cell_type": "code",
   "execution_count": 4,
   "metadata": {},
   "outputs": [
    {
     "name": "stderr",
     "output_type": "stream",
     "text": [
      "<ipython-input-4-4408260e0179>:2: FutureWarning: The default value of regex will change from True to False in a future version.\n",
      "  df['Value_F'] = pd.to_numeric(df.Value.str.replace('\\D', ''))\n"
     ]
    }
   ],
   "source": [
    "# Create a \"Value_F\" column that is a float-type derived from the \"Value\" column\n",
    "df['Value_F'] = pd.to_numeric(df.Value.str.replace('\\D', ''))"
   ]
  },
  {
   "cell_type": "code",
   "execution_count": 5,
   "metadata": {},
   "outputs": [],
   "source": [
    "# Experiment -- don't use for word searches (it finds a match for any one of the words rather than all)\n",
    "def df_search(word_list):\n",
    "    return df[df.Question.str.contains('|'.join(word_list))]\n",
    "#question_df = df_search(['King', 'England'])"
   ]
  },
  {
   "cell_type": "code",
   "execution_count": 6,
   "metadata": {},
   "outputs": [],
   "source": [
    "# Function that filters the dataset for questions that contains all of the words in a list of words\n",
    "def question_search(word_list):\n",
    "    found = []\n",
    "    for question in df.Question:\n",
    "        if all(words in question.lower() for words in [word.lower() for word in word_list]):\n",
    "            found.append(df[df.Question == question])\n",
    "    return pd.concat(found)"
   ]
  },
  {
   "cell_type": "code",
   "execution_count": 7,
   "metadata": {},
   "outputs": [],
   "source": [
    "# Function to count all of the unique answers within a dataset\n",
    "def unique_answers(dataset):\n",
    "    #return len(pd.unique(dataset.Answer))\n",
    "    return dataset.Answer.value_counts()"
   ]
  },
  {
   "cell_type": "code",
   "execution_count": 8,
   "metadata": {},
   "outputs": [],
   "source": [
    "king_questions = question_search(['King'])"
   ]
  },
  {
   "cell_type": "code",
   "execution_count": 9,
   "metadata": {},
   "outputs": [
    {
     "name": "stdout",
     "output_type": "stream",
     "text": [
      "785.1065226309312\n",
      "Henry VIII                         55\n",
      "Solomon                            35\n",
      "Richard III                        33\n",
      "Louis XIV                          31\n",
      "David                              30\n",
      "                                   ..\n",
      "\"Brown Eyed Girl\"                   1\n",
      "Arlington                           1\n",
      "the Stone of Scone                  1\n",
      "John Henry                          1\n",
      "\"Can You Feel The Love Tonight\"     1\n",
      "Name: Answer, Length: 5268, dtype: int64\n"
     ]
    }
   ],
   "source": [
    "#king_questions.to_csv('king_questions.csv')\n",
    "print(king_questions.Value_F.mean())\n",
    "print(unique_answers(king_questions))"
   ]
  }
 ],
 "metadata": {
  "kernelspec": {
   "display_name": "Python 3",
   "language": "python",
   "name": "python3"
  },
  "language_info": {
   "codemirror_mode": {
    "name": "ipython",
    "version": 3
   },
   "file_extension": ".py",
   "mimetype": "text/x-python",
   "name": "python",
   "nbconvert_exporter": "python",
   "pygments_lexer": "ipython3",
   "version": "3.8.5"
  }
 },
 "nbformat": 4,
 "nbformat_minor": 4
}
